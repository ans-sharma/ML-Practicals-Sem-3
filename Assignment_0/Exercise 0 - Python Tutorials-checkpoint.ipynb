{
 "cells": [
  {
   "cell_type": "markdown",
   "metadata": {},
   "source": [
    "### Exercise 0: Python Tutorials (you may use other programming language/tools of your choice)\n",
    "a) In this task you have to write a word count program (using IPython). Your program should read a text document. You should save your session and it should include Headings and comments at some important steps to explain the working of code."
   ]
  },
  {
   "cell_type": "code",
   "execution_count": 1,
   "metadata": {},
   "outputs": [
    {
     "name": "stdout",
     "output_type": "stream",
     "text": [
      "There are total  91  Number of Words in the given file.\n"
     ]
    }
   ],
   "source": [
    "#Input: Required File\n",
    "file=\"text.txt\"\n",
    "\n",
    "wordCount=0\n",
    "#Counting Words\n",
    "with open(file,'r') as file:\n",
    "    for line in file:\n",
    "        #Increment the wordCount variable by 1 for each word detected\n",
    "        wordCount=(wordCount + len(line.split()))\n",
    "\n",
    "#Output: Word Count\n",
    "print(\"There are total \",wordCount,\" Number of Words in the given file.\")\n"
   ]
  },
  {
   "cell_type": "markdown",
   "metadata": {},
   "source": [
    "b) Create a matrix A of dimensions n × m, where n = 100 and m = 20. Initialize Matrix A. Create a vector v of dimension m × 1. Initialize the matrix with a random values and vector with normal distribution using μ = 2 and σ = 0.01 (use numpy)."
   ]
  },
  {
   "cell_type": "code",
   "execution_count": 2,
   "metadata": {},
   "outputs": [
    {
     "name": "stdout",
     "output_type": "stream",
     "text": [
      "\n",
      "The Resultant Vector is:\n",
      " [[201981.98028119]\n",
      " [198540.91552939]\n",
      " [203819.08276216]\n",
      " ...\n",
      " [200600.87322011]\n",
      " [201552.08421756]\n",
      " [198354.38651345]] \n",
      "\n",
      "The Mean of the Resultant Vector =  200024.91272434662\n",
      "\n",
      "The Standard Deviation of the Resultant Vector =  2559.281525471748\n",
      "\n",
      "The Histogram for the Vector C is as follow:\n",
      " (array([ 111., 2545., 5912., 1397.,   35.]), array([189943.29838214, 194198.75336162, 198454.2083411 , 202709.66332058,\n",
      "       206965.11830006, 211220.57327954]), <BarContainer object of 5 artists>)\n"
     ]
    },
    {
     "name": "stderr",
     "output_type": "stream",
     "text": [
      "/tmp/ipykernel_4850/1600338010.py:18: MatplotlibDeprecationWarning: The seaborn styles shipped by Matplotlib are deprecated since 3.6, as they no longer correspond to the styles shipped by seaborn. However, they will remain available as 'seaborn-v0_8-<style>'. Alternatively, directly use the seaborn API instead.\n",
      "  plt.style.use('seaborn-whitegrid')\n"
     ]
    },
    {
     "data": {
      "image/png": "[encoded data removed]",
      "text/plain": [
       "<Figure size 640x480 with 1 Axes>"
      ]
     },
     "metadata": {},
     "output_type": "display_data"
    }
   ],
   "source": [
    "import numpy as np\n",
    "import matplotlib.pyplot as plt\n",
    "\n",
    "#Input: Number of Rows and Columns of Matrix\n",
    "rows = int(input(\"Enter the number of rows: \"))\n",
    "cols = int(input(\"\\nEnter the number of columns: \"))\n",
    "\n",
    "A = np.random.randint(low = 1, high = 100, size = (rows,cols))\n",
    "V = np.random.normal(loc = 2.0, scale = 0.01, size = (cols,1))\n",
    "\n",
    "#Storing Elementwise Multiplication of Matrix A and Vector V in Vector C\n",
    "C = A.dot(V)\n",
    "\n",
    "#Output: The Resultant Vector, its Mean, Standard Deviation and the Histogram\n",
    "print(\"\\nThe Resultant Vector is:\\n\",C,\"\\n\")\n",
    "print(\"The Mean of the Resultant Vector = \",np.mean(C))\n",
    "print(\"\\nThe Standard Deviation of the Resultant Vector = \",np.std(C))\n",
    "plt.style.use('seaborn-whitegrid')\n",
    "print(\"\\nThe Histogram for the Vector C is as follow:\\n\", plt.hist(C, bins=5))\n",
    "plt.show()"
   ]
  }
 ],
 "metadata": {
  "kernelspec": {
   "display_name": "Python 3.10.6 64-bit",
   "language": "python",
   "name": "python3"
  },
  "language_info": {
   "codemirror_mode": {
    "name": "ipython",
    "version": 3
   },
   "file_extension": ".py",
   "mimetype": "text/x-python",
   "name": "python",
   "nbconvert_exporter": "python",
   "pygments_lexer": "ipython3",
   "version": "3.10.6"
  },
  "vscode": {
   "interpreter": {
    "hash": "916dbcbb3f70747c44a77c7bcd40155683ae19c65e1c03b4aa3499c5328201f1"
   }
  }
 },
 "nbformat": 4,
 "nbformat_minor": 4
}
