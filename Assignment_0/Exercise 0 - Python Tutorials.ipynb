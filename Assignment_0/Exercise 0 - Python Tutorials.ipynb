{
 "cells": [
  {
   "cell_type": "markdown",
   "metadata": {},
   "source": [
    "### Exercise-0(a) \n",
    "### Python Program to Count the number of words in a Text File."
   ]
  },
  {
   "cell_type": "code",
   "execution_count": 2,
   "metadata": {},
   "outputs": [
    {
     "name": "stdout",
     "output_type": "stream",
     "text": [
      "There are total  21  Number of Words in the given file.\n"
     ]
    }
   ],
   "source": [
    "#Input: Required File\n",
    "file=\"ReadMe.txt\"\n",
    "\n",
    "word_count=0\n",
    "#Counting Words\n",
    "with open(file,'r') as file:\n",
    "    for line in file:\n",
    "        #Increment the word_count variable by 1 for each word detected\n",
    "        word_count=(word_count + len(line.split()))\n",
    "\n",
    "#Output: Word Count\n",
    "print(\"There are total \",word_count,\" Number of Words in the given file.\")\n"
   ]
  },
  {
   "cell_type": "markdown",
   "metadata": {},
   "source": [
    "### Exercise-0(b)\n",
    "### Python Program for Elementwise Multiplication of Matrix with Vector and Calculation of Mean, Standard Deviation & Histogram using NumPy."
   ]
  },
  {
   "cell_type": "code",
   "execution_count": 1,
   "metadata": {},
   "outputs": [
    {
     "name": "stdout",
     "output_type": "stream",
     "text": [
      "Enter the number of rows: 100\n",
      "\n",
      "Enter the number of columns: 20\n",
      "\n",
      "The Resultant Vector is:\n",
      " [[2155.6776895 ]\n",
      " [1749.34294371]\n",
      " [1799.58732464]\n",
      " [1920.28583306]\n",
      " [1906.59584976]\n",
      " [1953.09542547]\n",
      " [2079.56534795]\n",
      " [1480.88346163]\n",
      " [1641.55878241]\n",
      " [1950.46312213]\n",
      " [2363.60615203]\n",
      " [2009.87673404]\n",
      " [2104.5027945 ]\n",
      " [1717.31844343]\n",
      " [2121.07404692]\n",
      " [1631.73856555]\n",
      " [1878.62287179]\n",
      " [1757.57705383]\n",
      " [1935.45037983]\n",
      " [2118.91365827]\n",
      " [1713.14856778]\n",
      " [2217.41375071]\n",
      " [2566.3074321 ]\n",
      " [2108.26437408]\n",
      " [1719.273376  ]\n",
      " [2304.81593736]\n",
      " [2327.32145189]\n",
      " [1771.75412483]\n",
      " [1863.20024522]\n",
      " [1887.97955644]\n",
      " [2039.85293179]\n",
      " [2097.22436096]\n",
      " [1981.59823108]\n",
      " [2076.53137362]\n",
      " [1994.33402651]\n",
      " [2188.48923336]\n",
      " [1993.49674834]\n",
      " [1990.24825673]\n",
      " [2031.72989745]\n",
      " [2216.91172898]\n",
      " [2115.1711655 ]\n",
      " [2039.5834911 ]\n",
      " [2204.91620853]\n",
      " [1829.15687796]\n",
      " [2284.46821011]\n",
      " [1888.55896213]\n",
      " [1695.90096438]\n",
      " [1676.94177498]\n",
      " [1711.59050213]\n",
      " [1785.82092323]\n",
      " [1413.78368379]\n",
      " [2012.99870361]\n",
      " [1820.65413218]\n",
      " [1636.34186723]\n",
      " [2070.98172303]\n",
      " [2266.57616066]\n",
      " [2038.07222516]\n",
      " [2327.31205656]\n",
      " [2313.5967455 ]\n",
      " [1738.97241263]\n",
      " [2152.34960082]\n",
      " [2251.84065389]\n",
      " [2266.05071419]\n",
      " [2046.76319547]\n",
      " [1271.96718056]\n",
      " [1986.52163506]\n",
      " [2323.04571008]\n",
      " [1797.20522631]\n",
      " [1930.99731941]\n",
      " [2065.91916572]\n",
      " [2206.47364338]\n",
      " [1789.09343467]\n",
      " [1714.14292795]\n",
      " [1702.60553018]\n",
      " [2025.20677402]\n",
      " [2085.69741064]\n",
      " [2356.40701418]\n",
      " [1819.52898642]\n",
      " [1298.25207251]\n",
      " [1853.08707907]\n",
      " [2013.17856468]\n",
      " [2562.96145865]\n",
      " [1823.16175325]\n",
      " [2112.0855763 ]\n",
      " [2505.25861255]\n",
      " [2132.32621028]\n",
      " [2005.09439989]\n",
      " [2093.01866672]\n",
      " [2122.48311923]\n",
      " [2209.01859955]\n",
      " [2016.01803973]\n",
      " [2134.97562018]\n",
      " [2129.31330854]\n",
      " [1763.43491085]\n",
      " [2608.99566342]\n",
      " [1461.12839893]\n",
      " [1883.96874948]\n",
      " [1543.30000208]\n",
      " [1659.5990227 ]\n",
      " [1651.70342764]] \n",
      "\n",
      "The Mean of the Resultant Vector =  1976.1121025529858\n",
      "\n",
      "The Standard Deviation of the Resultant Vector =  263.53874276776713\n",
      "\n",
      "The Histogram for the Vector C is as follow:\n",
      " (array([ 5., 23., 34., 32.,  6.]), array([1271.96718056, 1539.37287713, 1806.7785737 , 2074.18427028,\n",
      "       2341.58996685, 2608.99566342]), <BarContainer object of 5 artists>)\n"
     ]
    },
    {
     "data": {
      "image/png": "[encoded data removed]",
      "text/plain": [
       "<Figure size 432x288 with 1 Axes>"
      ]
     },
     "metadata": {},
     "output_type": "display_data"
    }
   ],
   "source": [
    "import numpy as np\n",
    "import matplotlib.pyplot as plt\n",
    "\n",
    "#Input: Number of Rows and Columns of Matrix\n",
    "rows = int(input(\"Enter the number of rows: \"))\n",
    "cols = int(input(\"\\nEnter the number of columns: \"))\n",
    "\n",
    "A = np.random.randint(low = 1, high = 100, size = (rows,cols))\n",
    "V = np.random.normal(loc = 2.0, scale = 0.01, size = (cols,1))\n",
    "\n",
    "#Storing Elementwise Multiplication of Matrix A and Vector V in Vector C\n",
    "C = A.dot(V)\n",
    "\n",
    "#Output: The Resultant Vector, its Mean, Standard Deviation and the Histogram\n",
    "print(\"\\nThe Resultant Vector is:\\n\",C,\"\\n\")\n",
    "print(\"The Mean of the Resultant Vector = \",np.mean(C))\n",
    "print(\"\\nThe Standard Deviation of the Resultant Vector = \",np.std(C))\n",
    "plt.style.use('seaborn-whitegrid')\n",
    "print(\"\\nThe Histogram for the Vector C is as follow:\\n\", plt.hist(C, bins=5))\n",
    "plt.show()"
   ]
  }
 ],
 "metadata": {
  "kernelspec": {
   "display_name": "Python 3",
   "language": "python",
   "name": "python3"
  },
  "language_info": {
   "codemirror_mode": {
    "name": "ipython",
    "version": 3
   },
   "file_extension": ".py",
   "mimetype": "text/x-python",
   "name": "python",
   "nbconvert_exporter": "python",
   "pygments_lexer": "ipython3",
   "version": "3.8.5"
  }
 },
 "nbformat": 4,
 "nbformat_minor": 4
}
