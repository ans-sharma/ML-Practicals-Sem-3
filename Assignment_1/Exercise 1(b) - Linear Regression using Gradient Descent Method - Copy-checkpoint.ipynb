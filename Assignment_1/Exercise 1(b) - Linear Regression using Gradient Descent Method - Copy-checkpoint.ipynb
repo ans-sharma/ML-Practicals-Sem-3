{
 "cells": [
  {
   "cell_type": "markdown",
   "metadata": {},
   "source": [
    "### Exercise-1(b) \n",
    "### Python Program for Linear Regression using Gradient Descent Method (Manual)."
   ]
  },
  {
   "cell_type": "code",
   "execution_count": 1,
   "metadata": {},
   "outputs": [],
   "source": [
    "import numpy as np\n",
    "import pandas as pd\n",
    "import matplotlib.pyplot as plt\n",
    "import warnings\n",
    "warnings.filterwarnings('ignore')\n",
    "from sklearn.linear_model import SGDRegressor\n",
    "from sklearn import preprocessing, svm, datasets, linear_model\n",
    "from sklearn.metrics import mean_squared_error, r2_score\n",
    "from sklearn.model_selection import train_test_split \n",
    "\n",
    "# Input: Dataset \n",
    "data = pd.read_csv('winequality-red.csv')\n",
    "\n",
    "# Taking only two attributes of the Dataset\n",
    "data_binary = data[['C1','C2']]\n",
    "\n",
    "# Eliminating NaN or missing input numbers \n",
    "data_binary.fillna(method ='ffill', inplace = True) \n",
    "\n",
    "# Dropping any rows with Nan values \n",
    "data_binary.dropna(inplace = True) \n",
    "\n",
    "# Separating the data into independent and dependent variables\n",
    "# Converting each dataframe into a numpy array since each dataframe contains only one column \n",
    "X = np.array(data_binary['C1']).reshape(-1, 1) \n",
    "Y = np.array(data_binary['C2']).reshape(-1, 1)\n",
    "\n",
    "# Dividing into test and training sets \n",
    "X_train, X_test, Y_train, Y_test =  train_test_split(X,Y,test_size=0.3)\n",
    "\n",
    "# Mean X and Y\n",
    "mean_x_train = np.mean(X_train)\n",
    "mean_y_train = np.mean(Y_train)\n",
    "mean_x_test = np.mean(X_test)\n",
    "mean_y_test = np.mean(Y_test)\n",
    "\n",
    "# Building the model\n",
    "m = 0\n",
    "c = 0\n",
    "L = 0.0001              # The Learning Rate\n",
    "epochs = 10000          # The Number of Iterations to perform Gradient Descent\n",
    "\n",
    "# Using the Gradient Descent Method to calculate 'm' and 'c' \n",
    "for i in range(epochs): \n",
    "    Y_pred = m*X_train + c    \n",
    "    D_m = (-2/len(X_train)) * sum(X_train * (Y_train - Y_pred))  \n",
    "    D_c = (-2/len(X_train)) * sum(Y_train - Y_pred)        \n",
    "    m = m - (L * D_m)\n",
    "    c = c - (L * D_c)\n",
    "\n",
    "Y_pred = m*X_test + c\n",
    "\n",
    "# Total number of Test values\n",
    "n = len(Y_test)\n",
    "\n",
    "# Calculating Root Mean Squares Error & R2 Score\n",
    "rmse = 0\n",
    "ss_tot = 0\n",
    "ss_res = 0\n",
    "for i in range(n):\n",
    "    y_pred = c + m * X_test[i]\n",
    "    rmse += (Y_test[i] - y_pred) ** 2\n",
    "    ss_tot += (Y_test[i] - mean_y_test) ** 2\n",
    "    ss_res += (Y_test[i] - y_pred) ** 2\n",
    "\n",
    "rmse = np.sqrt(rmse/n)\n",
    "r2 = 1 - (ss_res/ss_tot)"
   ]
  },
  {
   "cell_type": "markdown",
   "metadata": {},
   "source": [
    "### Exercise-1(b) \n",
    "### Python Program for Linear Regression using Gradient Descent Method (SciKit-Learn)."
   ]
  },
  {
   "cell_type": "code",
   "execution_count": 2,
   "metadata": {},
   "outputs": [],
   "source": [
    "# Create Linear Regression object\n",
    "clf = SGDRegressor(max_iter=10000, learning_rate='constant',eta0=0.0001)\n",
    "\n",
    "# Train the model\n",
    "clf.fit(X_train,Y_train)\n",
    "\n",
    "# Make predictions \n",
    "Y_predict= clf.predict(X_test)"
   ]
  },
  {
   "cell_type": "markdown",
   "metadata": {},
   "source": [
    "### Exercise-1(b) \n",
    "### Output and Comparison of Both Methods."
   ]
  },
  {
   "cell_type": "code",
   "execution_count": 3,
   "metadata": {},
   "outputs": [
    {
     "name": "stdout",
     "output_type": "stream",
     "text": [
      "FOR LINEAR REGRESSION USING GRADIENT DESCENT METHOD MANUALLY \n",
      "\n"
     ]
    },
    {
     "data": {
      "image/png": "[encoded data removed]",
      "text/plain": [
       "<Figure size 432x288 with 1 Axes>"
      ]
     },
     "metadata": {
      "needs_background": "light"
     },
     "output_type": "display_data"
    },
    {
     "name": "stdout",
     "output_type": "stream",
     "text": [
      "\n",
      "Coefficients: m =  [0.5326725]  ; c =  [0.08512559]\n",
      "\n",
      "RMSE: 0.7480\n",
      "\n",
      "R2 Score: 0.1121\n",
      "_______________________________________________________________________\n",
      "\n",
      "\n",
      "FOR LINEAR REGRESSION USING GRADIENT DESCENT METHOD WITH SCIKIT-LEARN\n",
      "\n"
     ]
    },
    {
     "data": {
      "image/png": "[encoded data removed]",
      "text/plain": [
       "<Figure size 432x288 with 1 Axes>"
      ]
     },
     "metadata": {
      "needs_background": "light"
     },
     "output_type": "display_data"
    },
    {
     "name": "stdout",
     "output_type": "stream",
     "text": [
      "\n",
      "Coefficients: m =  [0.52508741]  ; c =  [0.06747023]\n",
      "\n",
      "RMSE: 0.7463\n",
      "\n",
      "R2 Score: 0.1161\n"
     ]
    }
   ],
   "source": [
    "# For Manual Method\n",
    "# Plotting Line and Scatter Points\n",
    "plt.plot(X_test, Y_pred, color='#70000d', label='Regression Line')\n",
    "plt.scatter(X_test, Y_test, c='#ef5423', label='Scatter Plot')\n",
    "plt.xlabel('C1')\n",
    "plt.ylabel('C2')\n",
    "plt.legend()\n",
    "# Output: The Plot for Regression Line, Coefficients, Root Mean Squares Error and the R2 Score\n",
    "print(\"FOR LINEAR REGRESSION USING GRADIENT DESCENT METHOD MANUALLY \\n\")\n",
    "plt.show()\n",
    "print(\"\\nCoefficients: m = \",m,\" ; c = \", c)\n",
    "print('\\nRMSE: %.4f' %rmse)\n",
    "print('\\nR2 Score: %.4f' %r2)\n",
    "\n",
    "# For SciKit-Learn Method\n",
    "# Plotting Line and Scatter Points\n",
    "plt.plot(X_test, Y_predict, color='#70000d', label='Regression Line')\n",
    "plt.scatter(X_test, Y_test, c='#ef5423', label='Scatter Plot')\n",
    "plt.xlabel('C1')\n",
    "plt.ylabel('C2')\n",
    "plt.legend()\n",
    "# Output: The Plot for Regression Line, Coefficients, Root Mean Squares Error and the R2 Score.\n",
    "print(\"_______________________________________________________________________\\n\")\n",
    "print(\"\\nFOR LINEAR REGRESSION USING GRADIENT DESCENT METHOD WITH SCIKIT-LEARN\\n\")\n",
    "plt.show()\n",
    "print(\"\\nCoefficients: m = \",clf.coef_,\" ; c = \", clf.intercept_)\n",
    "print(\"\\nRMSE: %.4f\" % mean_squared_error(Y_test, Y_predict, squared = False))\n",
    "print('\\nR2 Score: %.4f' % r2_score(Y_test, Y_predict))\n"
   ]
  },
  {
   "cell_type": "markdown",
   "metadata": {},
   "source": [
    "##### On comparison, we can see that both the methods (viz. Gradient Descent Method Manually and Gradient Descent Method with SciKit-Learn) return approximately same value of Root Mean Square Error and R2 Score with a slight difference between the Coefficients calculated. \n",
    "\n",
    "##### Also, on comparing the R2 Scores of both methods, it can be seen that the Model created by Manual Method fits more as compared to Model created by SciKit-Learn Method."
   ]
  }
 ],
 "metadata": {
  "kernelspec": {
   "display_name": "Python 3",
   "language": "python",
   "name": "python3"
  },
  "language_info": {
   "codemirror_mode": {
    "name": "ipython",
    "version": 3
   },
   "file_extension": ".py",
   "mimetype": "text/x-python",
   "name": "python",
   "nbconvert_exporter": "python",
   "pygments_lexer": "ipython3",
   "version": "3.8.5"
  }
 },
 "nbformat": 4,
 "nbformat_minor": 4
}
