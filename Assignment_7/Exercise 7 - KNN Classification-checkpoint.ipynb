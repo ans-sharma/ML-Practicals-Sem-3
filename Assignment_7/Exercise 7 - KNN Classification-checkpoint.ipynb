{
 "cells": [
  {
   "cell_type": "markdown",
   "metadata": {},
   "source": [
    "### Exercise 7: K-Nearest Neighbor (KNN) Classification:\n",
    "Datasets:\n",
    "\n",
    "1.Classification Datasets: You can use one of the two datasets (or optionally, both datasets).\n",
    "\n",
    "(a) Iris dataset D2 (i.e. D2 dataset in exercise 2):\n",
    "Target attribute class :{Iris Setosa, Iris Versicolour, Iris Virginica}.\n",
    "\n",
    "(b) Wine Quality dataset D3 : Target attribute quality:{0 to 10}. https://archive.ics.uci.edu/ml/datasets/Wine+Quality \n",
    "\n",
    "Implement K-Nearest Neighbor (KNN) Classification:\n",
    "\n",
    "Your task is to implement KNN Classification algorithm. To implement KNN you have to\n",
    "\n",
    "• Split data into a train and a test split (70% and 30% respectively).\n",
    "\n",
    "• Implement a similarity (or a distance) measure. To begin with you can implement the Euclidean Distance.\n",
    "\n",
    "• Implement a function that returns top K Nearest Neighbors for a given query (data point).\n",
    "\n",
    "• You should provide the prediction for a given query (use majority voting for classification).\n",
    "\n",
    "• Measure the quality of your prediction. [Hint: You have to choose a quality criterion]."
   ]
  },
  {
   "cell_type": "code",
   "execution_count": 6,
   "metadata": {},
   "outputs": [
    {
     "name": "stdout",
     "output_type": "stream",
     "text": [
      "\n",
      "\n",
      "Taking Input Parameters\n",
      "\n",
      "\n",
      "Number of Training data samples: 75\n"
     ]
    }
   ],
   "source": [
    "import csv, random, math\n",
    "from sklearn.datasets import load_iris\n",
    "from sklearn.model_selection import train_test_split\n",
    "from sklearn import metrics\n",
    "import pandas as pd\n",
    "import seaborn as sns\n",
    "import matplotlib.pyplot as plt\n",
    "import numpy as np\n",
    "\n",
    "# Function to Calculate Euclidean Distance\n",
    "def euc(obj1, obj2, size):\n",
    "    dist = 0\n",
    "    for i in range(size):\n",
    "        dist = dist + pow((obj1[i]-obj2[i]), 2)\n",
    "    return math.sqrt(dist)\n",
    "\n",
    "# Function to Return Top k Neighbours  \n",
    "def gen_nbors(X_train, y_train, X_test, k): \n",
    "    dist = []\n",
    "    nbors = []\n",
    "    c = (len(X_test))\n",
    "    for i in range(len(X_train)):\n",
    "        d = euc(X_test, X_train[i], c)        # Calculating Euclidean Distance\n",
    "        dist.append((X_train[i], y_train[i], d))\n",
    "    dist = sorted(dist, key = lambda i: i[2]) # Sort datapoints\n",
    "    for i in range(k):\n",
    "        nbors.append(dist[i][0:2])            # Select Top k datapoints\n",
    "    return nbors\n",
    "\n",
    "# KNN Algorithm\n",
    "def knn(nbors): \n",
    "    temp = {}\n",
    "    for i in range(k):\n",
    "        pred = nbors[i][-1]\n",
    "        if pred in temp:\n",
    "            temp[pred] = temp[pred]+1\n",
    "        else:\n",
    "            temp[pred] = 1\n",
    "    sorted_pred = list(temp.items());        # Sort the list in decreasing order \n",
    "    return sorted_pred[0][0]\n",
    "\n",
    "# Input: Dataset \n",
    "dataset = load_iris()\n",
    "\n",
    "# Separating Features and Target Values\n",
    "X = dataset.data\n",
    "y = dataset.target\n",
    "\n",
    "# Input: Size of Test Dataset and Number of Neighbours (k)\n",
    "print(\"\\n\\nTaking Input Parameters\\n\")\n",
    "te_size = input(\"Enter the Testing Data Size (as decimal ratio): \")\n",
    "te_size = float(te_size)\n",
    "k = input(\"Enter the Value of k: \")\n",
    "k = int(k)\n",
    "\n",
    "# Splitting the data into training and testing data \n",
    "X_train, X_test, y_train, y_test = train_test_split(X, y, test_size = te_size)\n",
    "\n",
    "predicted = []\n",
    "print('\\nNumber of Training data samples: '+str(len(X_test)))\n",
    "\n",
    "for i in range(len(X_test)):\n",
    "    nbors = gen_nbors(X_train, y_train, X_test[i], k);  \n",
    "    predd= knn(nbors)                                  \n",
    "    predicted.append(predd)"
   ]
  },
  {
   "cell_type": "markdown",
   "metadata": {},
   "source": [
    "\n",
    "##### Output for K Nearest Neighbour Classification."
   ]
  },
  {
   "cell_type": "code",
   "execution_count": 7,
   "metadata": {},
   "outputs": [
    {
     "name": "stdout",
     "output_type": "stream",
     "text": [
      "\n",
      "\n",
      "ACCURACY METRIC OF K NEAREST NEIGHBOUR CLASSIFIER\n",
      "\n",
      "Predicted Class: \n",
      "\n",
      "0 0 2 2 0 2 1 0 2 2 1 2 1 1 0 1 1 2 0 1 0 0 2 2 2 2 0 2 0 0 1 0 0 2 2 0 2 1 2 0 0 0 2 0 0 2 0 2 1 2 1 0 1 1 0 1 1 2 2 0 2 0 0 1 1 2 2 0 1 0 1 2 1 0 1\n",
      "\n",
      "Actual Class: \n",
      "\n",
      "0 0 2 2 0 2 1 0 2 2 1 2 1 1 0 1 1 2 0 1 0 0 2 2 2 2 0 2 0 0 1 0 0 2 2 0 2 1 1 0 0 0 2 0 0 2 0 2 1 2 1 0 1 1 0 1 2 2 2 0 1 0 0 1 1 2 2 0 1 0 1 2 1 0 1\n",
      "\n",
      "Number of mislabeled points out of a total 75 points : 3\n",
      "\n",
      "The Confusion Matrix for the K Nearest Neighbour Model\n",
      "\n",
      "\n"
     ]
    },
    {
     "data": {
      "image/png": "[encoded data removed]",
      "text/plain": [
       "<Figure size 640x480 with 2 Axes>"
      ]
     },
     "metadata": {},
     "output_type": "display_data"
    },
    {
     "name": "stdout",
     "output_type": "stream",
     "text": [
      "\n",
      "The Classification Report for the K Nearest Neighbour Model\n",
      "\n",
      "               precision    recall  f1-score   support\n",
      "\n",
      "           0       1.00      1.00      1.00        28\n",
      "           1       0.95      0.91      0.93        22\n",
      "           2       0.92      0.96      0.94        25\n",
      "\n",
      "    accuracy                           0.96        75\n",
      "   macro avg       0.96      0.96      0.96        75\n",
      "weighted avg       0.96      0.96      0.96        75\n",
      "\n"
     ]
    }
   ],
   "source": [
    "# Output: The Predicted vs Actual Class, Confusion Matrix & Classification Report\n",
    "print(\"\\n\\nACCURACY METRIC OF K NEAREST NEIGHBOUR CLASSIFIER\")\n",
    "print(\"\\nPredicted Class: \\n\")\n",
    "print(*predicted, sep=' ')\n",
    "print(\"\\nActual Class: \\n\")\n",
    "print(*y_test, sep=' ')\n",
    "print(\"\\nNumber of mislabeled points out of a total %d points : %d\" \n",
    "      % (X_test.shape[0], (y_test != predicted).sum()))\n",
    "print(\"\\nThe Confusion Matrix for the K Nearest Neighbour Model\\n\\n\")\n",
    "cm = metrics.confusion_matrix(y_test, predicted)\n",
    "cm_df = pd.DataFrame(cm,\n",
    "                     index = ['setosa','versicolor','virginica'], \n",
    "                     columns = ['setosa','versicolor','virginica'])\n",
    "sns.heatmap(cm_df, annot=True)\n",
    "plt.title('Accuracy = {0:.2f}%'.format(metrics\n",
    "                                      .accuracy_score(y_test, predicted)*100))\n",
    "plt.ylabel('Actual label')\n",
    "plt.xlabel('Predicted label')\n",
    "plt.show()\n",
    "print(\"\\nThe Classification Report for the K Nearest Neighbour Model\\n\\n\"\n",
    "      ,metrics.classification_report(y_test, predicted))"
   ]
  },
  {
   "cell_type": "markdown",
   "metadata": {},
   "source": [
    "##### Predicting Class for User Query."
   ]
  },
  {
   "cell_type": "code",
   "execution_count": 8,
   "metadata": {},
   "outputs": [
    {
     "name": "stdout",
     "output_type": "stream",
     "text": [
      "\n",
      "Enter Feature Values (Sepal Width,Sepal Length,Petal Width,Petal Length)\n",
      "The Predicted Class for Feature Set  [2.0, 2.0, 2.0, 2.0]  is  0 .\n"
     ]
    }
   ],
   "source": [
    "# To take query from User\n",
    "lst = [] \n",
    "\n",
    "# Input: Feature Values for Target Prediction \n",
    "print(\"\\nEnter Feature Values (Sepal Width,Sepal Length,Petal Width,Petal Length)\")\n",
    "for i in range(0, 4): \n",
    "    ele = float(input())\n",
    "    lst.append(ele)   \n",
    "\n",
    "# Making Prediction\n",
    "nbors= gen_nbors(X_train, y_train, lst, k)\n",
    "predd= knn(nbors)\n",
    "if(predd<=0.5):\n",
    "    predd1=0\n",
    "elif(predd<=1.5):\n",
    "    predd1=1\n",
    "else:\n",
    "    predd1=2\n",
    "\n",
    "# Output: Predicted Class\n",
    "print(\"The Predicted Class for Feature Set \",lst,\" is \", predd1,\".\")"
   ]
  },
  {
   "cell_type": "markdown",
   "metadata": {},
   "source": [
    "##### The KNN Classifier Model gives an accuracy of 93.33% for Iris Dataset (70% Training Data and 30% Testing Data) when trained with value of k=5. The model can be used to predict the class for a given set of features, with the help of query code built."
   ]
  }
 ],
 "metadata": {
  "kernelspec": {
   "display_name": "Python 3.10.6 64-bit",
   "language": "python",
   "name": "python3"
  },
  "language_info": {
   "codemirror_mode": {
    "name": "ipython",
    "version": 3
   },
   "file_extension": ".py",
   "mimetype": "text/x-python",
   "name": "python",
   "nbconvert_exporter": "python",
   "pygments_lexer": "ipython3",
   "version": "3.10.6"
  },
  "vscode": {
   "interpreter": {
    "hash": "916dbcbb3f70747c44a77c7bcd40155683ae19c65e1c03b4aa3499c5328201f1"
   }
  }
 },
 "nbformat": 4,
 "nbformat_minor": 4
}
