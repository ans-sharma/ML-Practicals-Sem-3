{
 "cells": [
  {
   "cell_type": "markdown",
   "metadata": {},
   "source": [
    "### Exercise-7\n",
    "### Python Program for K Nearest Neighbour Classification."
   ]
  },
  {
   "cell_type": "code",
   "execution_count": 93,
   "metadata": {},
   "outputs": [
    {
     "name": "stdout",
     "output_type": "stream",
     "text": [
      "\n",
      "\n",
      "Taking Input Parameters\n",
      "\n",
      "Enter the Testing Data Size (as decimal ratio): 0.3\n",
      "Enter the Value of k: 5\n",
      "\n",
      "Number of Training data samples: 45\n"
     ]
    }
   ],
   "source": [
    "import csv, random, math\n",
    "from sklearn.datasets import load_iris\n",
    "from sklearn.model_selection import train_test_split\n",
    "from sklearn import metrics\n",
    "import pandas as pd\n",
    "import seaborn as sns\n",
    "import matplotlib.pyplot as plt\n",
    "import numpy as np\n",
    "\n",
    "# Function to Calculate Euclidean Distance\n",
    "def euc(obj1, obj2, size):\n",
    "    dist = 0\n",
    "    for i in range(size):\n",
    "        dist = dist + pow((obj1[i]-obj2[i]), 2)\n",
    "    return math.sqrt(dist)\n",
    "\n",
    "# Function to Return Top k Neighbours  \n",
    "def gen_nbors(X_train, y_train, X_test, k): \n",
    "    dist = []\n",
    "    nbors = []\n",
    "    c = (len(X_test))\n",
    "    for i in range(len(X_train)):\n",
    "        d = euc(X_test, X_train[i], c)        # Calculating Euclidean Distance\n",
    "        dist.append((X_train[i], y_train[i], d))\n",
    "    dist = sorted(dist, key = lambda i: i[2]) # Sort datapoints\n",
    "    for i in range(k):\n",
    "        nbors.append(dist[i][0:2])            # Select Top k datapoints\n",
    "    return nbors\n",
    "\n",
    "# KNN Algorithm\n",
    "def knn(nbors): \n",
    "    temp = {}\n",
    "    for i in range(k):\n",
    "        pred = nbors[i][-1]\n",
    "        if pred in temp:\n",
    "            temp[pred] = temp[pred]+1\n",
    "        else:\n",
    "            temp[pred] = 1\n",
    "    sorted_pred = list(temp.items());        # Sort the list in decreasing order \n",
    "    return sorted_pred[0][0]\n",
    "\n",
    "# Input: Dataset \n",
    "dataset = load_iris()\n",
    "\n",
    "# Separating Features and Target Values\n",
    "X = dataset.data\n",
    "y = dataset.target\n",
    "\n",
    "# Input: Size of Test Dataset and Number of Neighbours (k)\n",
    "print(\"\\n\\nTaking Input Parameters\\n\")\n",
    "te_size = input(\"Enter the Testing Data Size (as decimal ratio): \")\n",
    "te_size = float(te_size)\n",
    "k = input(\"Enter the Value of k: \")\n",
    "k = int(k)\n",
    "\n",
    "# Splitting the data into training and testing data \n",
    "X_train, X_test, y_train, y_test = train_test_split(X, y, test_size = te_size)\n",
    "\n",
    "predicted = []\n",
    "print('\\nNumber of Training data samples: '+str(len(X_test)))\n",
    "\n",
    "for i in range(len(X_test)):\n",
    "    nbors = gen_nbors(X_train, y_train, X_test[i], k);  \n",
    "    predd= knn(nbors)                                  \n",
    "    predicted.append(predd)"
   ]
  },
  {
   "cell_type": "markdown",
   "metadata": {},
   "source": [
    "### Exercise-7\n",
    "### Output for K Nearest Neighbour Classification."
   ]
  },
  {
   "cell_type": "code",
   "execution_count": 97,
   "metadata": {},
   "outputs": [
    {
     "name": "stdout",
     "output_type": "stream",
     "text": [
      "\n",
      "\n",
      "ACCURACY METRIC OF K NEAREST NEIGHBOUR CLASSIFIER\n",
      "\n",
      "Predicted Class: \n",
      "\n",
      "0 0 0 2 0 1 2 1 0 2 0 2 0 2 2 2 0 0 2 2 1 0 1 1 1 2 1 1 2 1 1 2 2 0 0 2 0 2 2 2 1 1 1 1 2\n",
      "\n",
      "Actual Class: \n",
      "\n",
      "0 0 0 2 0 1 2 1 0 2 0 2 0 2 2 2 0 0 2 2 1 0 2 1 1 2 1 1 2 1 1 2 2 0 0 2 0 2 2 1 1 2 1 1 2\n",
      "\n",
      "Number of mislabeled points out of a total 45 points : 3\n",
      "\n",
      "The Confusion Matrix for the K Nearest Neighbour Model\n",
      "\n",
      "\n"
     ]
    },
    {
     "data": {
      "image/png": "[encoded data removed]",
      "text/plain": [
       "<Figure size 432x288 with 2 Axes>"
      ]
     },
     "metadata": {
      "needs_background": "light"
     },
     "output_type": "display_data"
    },
    {
     "name": "stdout",
     "output_type": "stream",
     "text": [
      "\n",
      "The Classification Report for the K Nearest Neighbour Model\n",
      "\n",
      "               precision    recall  f1-score   support\n",
      "\n",
      "           0       1.00      1.00      1.00        13\n",
      "           1       0.86      0.92      0.89        13\n",
      "           2       0.94      0.89      0.92        19\n",
      "\n",
      "    accuracy                           0.93        45\n",
      "   macro avg       0.93      0.94      0.94        45\n",
      "weighted avg       0.94      0.93      0.93        45\n",
      "\n"
     ]
    }
   ],
   "source": [
    "# Output: The Predicted vs Actual Class, Confusion Matrix & Classification Report\n",
    "print(\"\\n\\nACCURACY METRIC OF K NEAREST NEIGHBOUR CLASSIFIER\")\n",
    "print(\"\\nPredicted Class: \\n\")\n",
    "print(*predicted, sep=' ')\n",
    "print(\"\\nActual Class: \\n\")\n",
    "print(*y_test, sep=' ')\n",
    "print(\"\\nNumber of mislabeled points out of a total %d points : %d\" \n",
    "      % (X_test.shape[0], (y_test != predicted).sum()))\n",
    "print(\"\\nThe Confusion Matrix for the K Nearest Neighbour Model\\n\\n\")\n",
    "cm = metrics.confusion_matrix(y_test, predicted)\n",
    "cm_df = pd.DataFrame(cm,\n",
    "                     index = ['setosa','versicolor','virginica'], \n",
    "                     columns = ['setosa','versicolor','virginica'])\n",
    "sns.heatmap(cm_df, annot=True)\n",
    "plt.title('Accuracy = {0:.2f}%'.format(metrics\n",
    "                                      .accuracy_score(y_test, predicted)*100))\n",
    "plt.ylabel('Actual label')\n",
    "plt.xlabel('Predicted label')\n",
    "plt.show()\n",
    "print(\"\\nThe Classification Report for the K Nearest Neighbour Model\\n\\n\"\n",
    "      ,metrics.classification_report(y_test, predicted))"
   ]
  },
  {
   "cell_type": "markdown",
   "metadata": {},
   "source": [
    "### Exercise-7\n",
    "### Predicting Class for User Query."
   ]
  },
  {
   "cell_type": "code",
   "execution_count": 95,
   "metadata": {},
   "outputs": [
    {
     "name": "stdout",
     "output_type": "stream",
     "text": [
      "\n",
      "Enter Feature Values (Sepal Width,Sepal Length,Petal Width,Petal Length)\n",
      "0.5\n",
      "1.25\n",
      "2\n",
      "1.3\n",
      "The Predicted Class for Feature Set  [0.5, 1.25, 2.0, 1.3]  is  0 .\n"
     ]
    }
   ],
   "source": [
    "# To take query from User\n",
    "lst = [] \n",
    "\n",
    "# Input: Feature Values for Target Prediction \n",
    "print(\"\\nEnter Feature Values (Sepal Width,Sepal Length,Petal Width,Petal Length)\")\n",
    "for i in range(0, 4): \n",
    "    ele = float(input())\n",
    "    lst.append(ele)   \n",
    "\n",
    "# Making Prediction\n",
    "nbors= gen_nbors(X_train, y_train, lst, k)\n",
    "predd= knn(nbors)\n",
    "if(predd<=0.5):\n",
    "    predd1=0\n",
    "elif(predd<=1.5):\n",
    "    predd1=1\n",
    "else:\n",
    "    predd1=2\n",
    "\n",
    "# Output: Predicted Class\n",
    "print(\"The Predicted Class for Feature Set \",lst,\" is \", predd1,\".\")"
   ]
  },
  {
   "cell_type": "markdown",
   "metadata": {},
   "source": [
    "##### The KNN Classifier Model gives an accuracy of 93.33% for Iris Dataset (70% Training Data and 30% Testing Data) when trained with value of k=5. The model can be used to predict the class for a given set of features, with the help of query code built."
   ]
  }
 ],
 "metadata": {
  "kernelspec": {
   "display_name": "Python 3",
   "language": "python",
   "name": "python3"
  },
  "language_info": {
   "codemirror_mode": {
    "name": "ipython",
    "version": 3
   },
   "file_extension": ".py",
   "mimetype": "text/x-python",
   "name": "python",
   "nbconvert_exporter": "python",
   "pygments_lexer": "ipython3",
   "version": "3.8.5"
  }
 },
 "nbformat": 4,
 "nbformat_minor": 4
}
