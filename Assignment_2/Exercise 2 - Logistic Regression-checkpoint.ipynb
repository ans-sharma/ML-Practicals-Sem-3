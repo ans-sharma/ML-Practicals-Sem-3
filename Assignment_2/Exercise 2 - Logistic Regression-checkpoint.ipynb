{
 "cells": [
  {
   "cell_type": "markdown",
   "metadata": {},
   "source": [
    "### Exercise-2 \n",
    "### Python Program for Logistic Regression (Manual)."
   ]
  },
  {
   "cell_type": "code",
   "execution_count": 5,
   "metadata": {},
   "outputs": [],
   "source": [
    "import numpy as np\n",
    "from matplotlib import pyplot as plt\n",
    "import sklearn.metrics as mt\n",
    "import pandas as pd\n",
    "import seaborn as sns\n",
    "from sklearn import datasets\n",
    "from sklearn.model_selection import train_test_split\n",
    "from sklearn.linear_model import LogisticRegression\n",
    "from sklearn.metrics import confusion_matrix, accuracy_score, classification_report \n",
    "\n",
    "# Class for Logistic Regression Model\n",
    "class LogisticRegress:\n",
    "    def __init__(self, lr=0.01, num_iter=100000, fit_intercept=True, verbose=False):\n",
    "        self.lr = lr\n",
    "        self.num_iter = num_iter\n",
    "        self.fit_intercept = fit_intercept\n",
    "        self.verbose = verbose\n",
    "    \n",
    "    # Function to define the Intercept value\n",
    "    def __add_intercept(self, X):\n",
    "        intercept = np.ones((X.shape[0], 1))\n",
    "        return np.concatenate((intercept, X), axis=1)\n",
    "    \n",
    "    # Sigmoid Function to Predict Y\n",
    "    def __sigmoid(self, z):\n",
    "        return 1 / (1 + np.exp(-z))\n",
    "    \n",
    "    # Loss Function to minimize the Error of our Model\n",
    "    def __loss(self, h, y):\n",
    "        return (-y * np.log(h) - (1 - y) * np.log(1 - h)).mean()\n",
    "    \n",
    "    # Function for Model Training\n",
    "    def fit(self, X, y):\n",
    "        if self.fit_intercept:\n",
    "            X = self.__add_intercept(X)\n",
    "        \n",
    "        # Weights Initialization\n",
    "        self.theta = np.zeros(X.shape[1])\n",
    "        \n",
    "        for i in range(self.num_iter):\n",
    "            z = np.dot(X, self.theta)\n",
    "            h = self.__sigmoid(z)\n",
    "            gradient = np.dot(X.T, (h - y)) / y.size\n",
    "            self.theta -= self.lr * gradient\n",
    "            \n",
    "            z = np.dot(X, self.theta)\n",
    "            h = self.__sigmoid(z)\n",
    "            loss = self.__loss(h, y)\n",
    "                \n",
    "            if(self.verbose ==True and i % 100000 == 0):\n",
    "                print(f'loss: {loss} \\t')\n",
    "    \n",
    "    # Predict Probability Values based on generated W values out of all iterations\n",
    "    def predict_prob(self, X):\n",
    "        if self.fit_intercept:\n",
    "            X = self.__add_intercept(X)\n",
    "        return self.__sigmoid(np.dot(X, self.theta))\n",
    "    \n",
    "    # To predict the Actual Values (0 or 1) \n",
    "    def predict(self, X):\n",
    "        return self.predict_prob(X).round()\n",
    "    \n",
    "# Input: Dataset\n",
    "iris = datasets.load_iris()\n",
    "X = iris.data[:, :2]\n",
    "y = (iris.target != 0) * 1\n",
    "\n",
    "# Dividing into test and training sets \n",
    "X_train, X_test, Y_train, Y_test =  train_test_split(X,y,test_size=0.3)\n",
    "\n",
    "# Create Logistic Regression object\n",
    "model = LogisticRegress(lr=0.01, num_iter=300000)\n",
    "\n",
    "# Train the model using the training sets\n",
    "model.fit(X_train, Y_train)\n",
    "\n",
    "# Make predictions using the testing set\n",
    "preds = model.predict(X_test)"
   ]
  },
  {
   "cell_type": "markdown",
   "metadata": {},
   "source": [
    "### Exercise-2 \n",
    "### Python Program for Logistic Regression (SciKit-Learn)."
   ]
  },
  {
   "cell_type": "code",
   "execution_count": 6,
   "metadata": {},
   "outputs": [],
   "source": [
    "# Create Logistic Regression object\n",
    "logreg = LogisticRegression(max_iter=300000)\n",
    "\n",
    "# Train the model using the training sets\n",
    "logreg.fit(X_train,Y_train)\n",
    "\n",
    "# Make predictions using the testing set\n",
    "Y_pred = logreg.predict(X_test)"
   ]
  },
  {
   "cell_type": "markdown",
   "metadata": {},
   "source": [
    "### Exercise-2\n",
    "### Output and Comparison of Both Methods."
   ]
  },
  {
   "cell_type": "code",
   "execution_count": 9,
   "metadata": {
    "scrolled": false
   },
   "outputs": [
    {
     "name": "stdout",
     "output_type": "stream",
     "text": [
      "FOR LOGISTIC REGRESSION USING MANUAL METHOD \n",
      "\n"
     ]
    },
    {
     "data": {
      "image/png": "[encoded data removed]",
      "text/plain": [
       "<Figure size 432x288 with 1 Axes>"
      ]
     },
     "metadata": {
      "needs_background": "light"
     },
     "output_type": "display_data"
    },
    {
     "name": "stdout",
     "output_type": "stream",
     "text": [
      "\n",
      "Confusion Matrix\n",
      "\n"
     ]
    },
    {
     "data": {
      "image/png": "[encoded data removed]",
      "text/plain": [
       "<Figure size 432x288 with 2 Axes>"
      ]
     },
     "metadata": {
      "needs_background": "light"
     },
     "output_type": "display_data"
    },
    {
     "name": "stdout",
     "output_type": "stream",
     "text": [
      "\n",
      "\n",
      "Classification Report\n",
      "\n",
      "               precision    recall  f1-score   support\n",
      "\n",
      "           0       1.00      0.93      0.96        14\n",
      "           1       0.97      1.00      0.98        31\n",
      "\n",
      "    accuracy                           0.98        45\n",
      "   macro avg       0.98      0.96      0.97        45\n",
      "weighted avg       0.98      0.98      0.98        45\n",
      "\n",
      "__________________________________________________________________\n",
      "\n",
      "\n",
      "FOR LOGISTIC REGRESSION USING SCIKIT-LEARN METHOD \n",
      "\n"
     ]
    },
    {
     "data": {
      "image/png": "[encoded data removed]",
      "text/plain": [
       "<Figure size 432x288 with 1 Axes>"
      ]
     },
     "metadata": {
      "needs_background": "light"
     },
     "output_type": "display_data"
    },
    {
     "name": "stdout",
     "output_type": "stream",
     "text": [
      "\n",
      "Confusion Matrix\n",
      "\n"
     ]
    },
    {
     "data": {
      "image/png": "[encoded data removed]",
      "text/plain": [
       "<Figure size 432x288 with 2 Axes>"
      ]
     },
     "metadata": {
      "needs_background": "light"
     },
     "output_type": "display_data"
    },
    {
     "name": "stdout",
     "output_type": "stream",
     "text": [
      "\n",
      "Classification Report\n",
      "\n",
      "               precision    recall  f1-score   support\n",
      "\n",
      "           0       1.00      1.00      1.00        14\n",
      "           1       1.00      1.00      1.00        31\n",
      "\n",
      "    accuracy                           1.00        45\n",
      "   macro avg       1.00      1.00      1.00        45\n",
      "weighted avg       1.00      1.00      1.00        45\n",
      "\n"
     ]
    }
   ],
   "source": [
    "# For Manual Method\n",
    "# Plotting Line and Scatter Points\n",
    "plt.scatter(X[y == 0][:, 0], X[y == 0][:, 1], color='b', label='0')\n",
    "plt.scatter(X[y == 1][:, 0], X[y == 1][:, 1], color='r', label='1')\n",
    "plt.title(\"Decision Boundary by Manual Logistic Regression\")\n",
    "plt.legend()\n",
    "x1_min, x1_max = X[:,0].min(), X[:,0].max(),\n",
    "x2_min, x2_max = X[:,1].min(), X[:,1].max(),\n",
    "xx1, xx2 = np.meshgrid(np.linspace(x1_min, x1_max), np.linspace(x2_min, x2_max))\n",
    "grid = np.c_[xx1.ravel(), xx2.ravel()]\n",
    "probs = model.predict(grid).reshape(xx1.shape)\n",
    "plt.contour(xx1, xx2, probs, [0.5], linewidths=1, colors='black');\n",
    "\n",
    "# Output: Regression Line Plot, Confusion Matrix, Accuracy & Classification Report\n",
    "print(\"FOR LOGISTIC REGRESSION USING MANUAL METHOD \\n\")\n",
    "plt.show()\n",
    "print(\"\\nConfusion Matrix\\n\")\n",
    "cm = mt.confusion_matrix(Y_test, preds)\n",
    "cm_df = confusion_matrix(Y_test, preds)\n",
    "sns.heatmap(cm_df, annot=True)\n",
    "plt.title('Accuracy = {0:.2f}%'.format(accuracy_score(Y_test, preds)*100))\n",
    "plt.ylabel('Actual label')\n",
    "plt.xlabel('Predicted label')\n",
    "plt.show()\n",
    "print(\"\\n\\nClassification Report\\n\\n\",classification_report(Y_test, preds))\n",
    "\n",
    "# For SciKit-Learn Method\n",
    "# Plotting Line and Scatter Points\n",
    "plt.scatter(X[y == 0][:, 0], X[y == 0][:, 1], color='b', label='0')\n",
    "plt.scatter(X[y == 1][:, 0], X[y == 1][:, 1], color='r', label='1')\n",
    "plt.title(\"Decision Boundary by SciKit-Learn Logistic Regression\")\n",
    "plt.legend()\n",
    "x1_min, x1_max = X[:,0].min(), X[:,0].max(),\n",
    "x2_min, x2_max = X[:,1].min(), X[:,1].max(),\n",
    "xx1, xx2 = np.meshgrid(np.linspace(x1_min, x1_max), np.linspace(x2_min, x2_max))\n",
    "grid = np.c_[xx1.ravel(), xx2.ravel()]\n",
    "probs = logreg.predict(grid).reshape(xx1.shape)\n",
    "plt.contour(xx1, xx2, probs, [0.5], linewidths=1, colors='black');\n",
    "\n",
    "# Output: Regression Line Plot, Confusion Matrix, Accuracy & Classification Report\n",
    "print(\"__________________________________________________________________\\n\")\n",
    "print(\"\\nFOR LOGISTIC REGRESSION USING SCIKIT-LEARN METHOD \\n\")\n",
    "plt.show()\n",
    "print(\"\\nConfusion Matrix\\n\")\n",
    "cm = mt.confusion_matrix(Y_test, Y_pred)\n",
    "cm_df = confusion_matrix(Y_test, Y_pred)\n",
    "sns.heatmap(cm_df, annot=True)\n",
    "plt.title('Accuracy = {0:.2f}%'.format(accuracy_score(Y_test, Y_pred)*100))\n",
    "plt.ylabel('Actual label')\n",
    "plt.xlabel('Predicted label')\n",
    "plt.show()\n",
    "print(\"\\nClassification Report\\n\\n\",classification_report(Y_test, Y_pred))"
   ]
  },
  {
   "cell_type": "markdown",
   "metadata": {},
   "source": [
    "##### On comparison, we can see that Logistic Regression Method using SciKit-Learn is more accurate than the Manual Logistic Regression Method. The SciKit-Learn Method has an Accuracy of 100% whereas Manual Method gave an Accuracy of 97.78%. "
   ]
  }
 ],
 "metadata": {
  "kernelspec": {
   "display_name": "Python 3",
   "language": "python",
   "name": "python3"
  },
  "language_info": {
   "codemirror_mode": {
    "name": "ipython",
    "version": 3
   },
   "file_extension": ".py",
   "mimetype": "text/x-python",
   "name": "python",
   "nbconvert_exporter": "python",
   "pygments_lexer": "ipython3",
   "version": "3.8.5"
  }
 },
 "nbformat": 4,
 "nbformat_minor": 2
}
